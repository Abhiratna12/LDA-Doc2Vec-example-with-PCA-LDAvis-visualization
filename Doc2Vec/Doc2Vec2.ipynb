{
 "cells": [
  {
   "cell_type": "code",
   "execution_count": 1,
   "metadata": {
    "collapsed": true
   },
   "outputs": [],
   "source": [
    "from gensim import utils\n",
    "import gensim.models.doc2vec\n",
    "from gensim.models.doc2vec import LabeledSentence\n",
    "from gensim.models import Doc2Vec\n",
    "import gensim\n",
    "import sys\n",
    "import numpy as np\n",
    "from gensim import corpora, models\n",
    "import csv\n",
    "import _pickle as cPickle\n",
    "from sklearn.externals import joblib\n",
    "import bz2\n",
    "from random import shuffle\n",
    "import ast\n",
    "from sklearn.linear_model import LogisticRegression\n"
   ]
  },
  {
   "cell_type": "code",
   "execution_count": null,
   "metadata": {
    "collapsed": false
   },
   "outputs": [],
   "source": [
    "with open(\"tokens_after_lemmas_and_rm_stopwords_1000.txt\") as f:\n",
    "    data = f.readlines()\n",
    "    \n",
    "doc2vec_data = []\n",
    "for line in data:\n",
    "    line = ast.literal_eval(line)\n",
    "    temp = ' '.join(str(token) for token in line).replace(\"t shirt\",\"t-shirt\")\n",
    "    doc2vec_data.append(temp)\n",
    "    \n",
    "File = open('doc2vec_data.txt', 'w') \n",
    "for item in doc2vec_data:\n",
    "    File.write(\"%s\\n\" % item)\n",
    "    \n",
    "sentences=gensim.models.doc2vec.TaggedLineDocument(\"doc2vec_data.txt\")\n",
    "model = gensim.models.doc2vec.Doc2Vec(sentences,size = 200, window = 10, min_count = 5, iter = 20, workers=32)\n",
    "\n",
    "model.save('doc2vec_model.d2v')"
   ]
  },
  {
   "cell_type": "code",
   "execution_count": 2,
   "metadata": {
    "collapsed": false
   },
   "outputs": [],
   "source": [
    "model = Doc2Vec.load('doc2vec_model.d2v')"
   ]
  },
  {
   "cell_type": "code",
   "execution_count": 3,
   "metadata": {
    "collapsed": false
   },
   "outputs": [
    {
     "name": "stdout",
     "output_type": "stream",
     "text": [
      "[(98, 0.9556355476379395), (812, 0.611519455909729), (756, 0.6043156385421753), (771, 0.5440517663955688), (681, 0.5020686984062195), (623, 0.4250754714012146), (852, 0.41446852684020996), (387, 0.40333497524261475), (587, 0.39269760251045227), (385, 0.3774768114089966)]\n"
     ]
    }
   ],
   "source": [
    "#The full model was run on a server. This is a sample model run on 1000 lines of text. \n",
    "#See doc2vec_output.jpeg to see output of 30Million line model.\n",
    "\n",
    "sims = model.docvecs.most_similar(99)\n",
    "\n",
    "print(sims)\n"
   ]
  },
  {
   "cell_type": "code",
   "execution_count": null,
   "metadata": {
    "collapsed": false
   },
   "outputs": [],
   "source": [
    "#The commands below were run on a server. See doc2vec_output.jpeg to see full outputs.\n",
    "\n",
    "print(model.doesnt_match(\"halloween costume devil party  scarf\".split()))\n",
    "print(model.doesnt_match(\"black blue yellow shirt navy black green orange\".split()))\n",
    "print(model.doesnt_match(\"summer winter fall t-shirt spring hot cold\".split()))\n",
    "print(model.doesnt_match(\"straight slim fit custom regular winter\".split()))\n",
    "\n",
    "\n",
    "print(model.most_similar(positive=['boy', 'king'], negative=['girl']))\n",
    "print(model.most_similar(positive=['blue', 'shirt'], negative=['blue']))\n",
    "print(model.most_similar(positive=['calvin', 'klein'], negative=['tommy']))\n",
    "print(model.most_similar(positive=['cotton', 'material'], negative=['polyester']))\n",
    "print(model.most_similar(positive=['nike', 'run'], negative=['express']))\n",
    "\n",
    "\n",
    "\n",
    "print(model.most_similar_cosmul(positive=['calvin', 'klein'], negative=['tommy']) )\n",
    "print(model.most_similar_cosmul(positive=['skinny', 'jean'], negative=['large']) )\n",
    "print(model.most_similar_cosmul(positive=['black', 'dress'], negative=['navy']) )\n",
    "print(model.most_similar_cosmul(positive=['blue', 'coat'], negative=['yellow']) )\n",
    "\n"
   ]
  }
 ],
 "metadata": {
  "kernelspec": {
   "display_name": "Python 3",
   "language": "python",
   "name": "python3"
  },
  "language_info": {
   "codemirror_mode": {
    "name": "ipython",
    "version": 3
   },
   "file_extension": ".py",
   "mimetype": "text/x-python",
   "name": "python",
   "nbconvert_exporter": "python",
   "pygments_lexer": "ipython3",
   "version": "3.5.1"
  }
 },
 "nbformat": 4,
 "nbformat_minor": 0
}
